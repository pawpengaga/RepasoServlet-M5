{
 "cells": [
  {
   "cell_type": "markdown",
   "metadata": {},
   "source": [
    "### Repaso servlets"
   ]
  },
  {
   "cell_type": "markdown",
   "metadata": {},
   "source": [
    "Un servlet es una clase de codigo Java que suporta peticiones HTTP"
   ]
  },
  {
   "cell_type": "markdown",
   "metadata": {},
   "source": [
    "Dentro de \\src\\main\\webapp\\WEB-INF van las bibliotecas que vayamos a usar"
   ]
  },
  {
   "cell_type": "markdown",
   "metadata": {},
   "source": [
    "Cada metodo del servlet tiene una request y una response, lo que le llega al Servlet y lo que este envia"
   ]
  },
  {
   "cell_type": "markdown",
   "metadata": {},
   "source": [
    "### Repaso JSP"
   ]
  },
  {
   "cell_type": "markdown",
   "metadata": {},
   "source": [
    "JSP permite 3 formas de dar logica a un documento HTML\n",
    "\n",
    "- Una sintaxis para declarar (Variables, metodos, etc.)\n",
    "```java\n",
    "<%!\n",
    "  String saludo = \"Bievenido!\"\n",
    "%>\n",
    "```\n",
    "- Una sintaxis para expresión (Evaluar y mostrar las cosas declaradas)\n",
    "- Los `Scriplets` son una sintaxis para escribir codigo regular de Java, donde usar estructuras como ciclos o validaciones IF\n",
    "\n",
    "Existen ademas 3 modos de sintaxis `Directivas`\n",
    "\n",
    "- Page: Que nos permite incluir librerias a traves del @import\n",
    "- Include: Para traer otros archivos JSP\n",
    "- TagLib: Librerias para etiquetas como JST"
   ]
  }
 ],
 "metadata": {
  "kernelspec": {
   "display_name": "Java",
   "language": "java",
   "name": "java"
  },
  "language_info": {
   "name": "java"
  }
 },
 "nbformat": 4,
 "nbformat_minor": 2
}
